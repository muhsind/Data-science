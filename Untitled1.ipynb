{
 "cells": [
  {
   "cell_type": "code",
   "execution_count": 5,
   "id": "4541b6f0",
   "metadata": {},
   "outputs": [
    {
     "name": "stdout",
     "output_type": "stream",
     "text": [
      "Hello Muhsin \n"
     ]
    }
   ],
   "source": [
    " print(\"Hello Muhsin \")"
   ]
  },
  {
   "cell_type": "code",
   "execution_count": 8,
   "id": "d3a15a3c",
   "metadata": {},
   "outputs": [
    {
     "name": "stdout",
     "output_type": "stream",
     "text": [
      "27+28\n"
     ]
    }
   ],
   "source": [
    "print(\"27+28\")"
   ]
  },
  {
   "cell_type": "code",
   "execution_count": null,
   "id": "f66134de",
   "metadata": {},
   "outputs": [],
   "source": [
    "shift + enter ----- execute"
   ]
  },
  {
   "cell_type": "code",
   "execution_count": null,
   "id": "54c376c9",
   "metadata": {},
   "outputs": [],
   "source": []
  },
  {
   "cell_type": "code",
   "execution_count": null,
   "id": "d1a95fa3",
   "metadata": {},
   "outputs": [],
   "source": []
  }
 ],
 "metadata": {
  "kernelspec": {
   "display_name": "Python 3 (ipykernel)",
   "language": "python",
   "name": "python3"
  },
  "language_info": {
   "codemirror_mode": {
    "name": "ipython",
    "version": 3
   },
   "file_extension": ".py",
   "mimetype": "text/x-python",
   "name": "python",
   "nbconvert_exporter": "python",
   "pygments_lexer": "ipython3",
   "version": "3.11.3"
  }
 },
 "nbformat": 4,
 "nbformat_minor": 5
}
